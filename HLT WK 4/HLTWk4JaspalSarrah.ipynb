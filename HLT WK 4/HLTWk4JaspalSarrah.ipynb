{
 "cells": [
  {
   "cell_type": "markdown",
   "source": [
    "Home learning task 4"
   ],
   "metadata": {}
  },
  {
   "cell_type": "code",
   "execution_count": null,
   "source": [
    "# Import pandas library\r\n",
    "\r\n",
    "import pandas as pd\r\n"
   ],
   "outputs": [],
   "metadata": {}
  },
  {
   "cell_type": "code",
   "execution_count": null,
   "source": [
    "# Read csv file containing destination data\r\n",
    "\r\n",
    "destination_data = pd.read_csv(\"Holiday Destinations.csv\")\r\n",
    "print(destination_data)\r\n"
   ],
   "outputs": [],
   "metadata": {}
  },
  {
   "cell_type": "markdown",
   "source": [
    "1. How many rows and columns are there in your file?"
   ],
   "metadata": {}
  },
  {
   "cell_type": "code",
   "execution_count": null,
   "source": [
    "destination_data = pd.read_csv(\"Holiday Destinations.csv\")\r\n",
    "print(destination_data)\r\n",
    "destination_data.shape"
   ],
   "outputs": [],
   "metadata": {}
  },
  {
   "cell_type": "markdown",
   "source": [
    "2. Print row 3-8 ( using iloc/loc)"
   ],
   "metadata": {}
  },
  {
   "cell_type": "code",
   "execution_count": null,
   "source": [
    "destination_data = pd.read_csv(\"Holiday Destinations.csv\")\r\n",
    "print(destination_data.iloc[2:7])"
   ],
   "outputs": [],
   "metadata": {}
  },
  {
   "cell_type": "markdown",
   "source": [
    "3. Find the mean number of all-inclusive hotels across all destinations."
   ],
   "metadata": {}
  },
  {
   "cell_type": "code",
   "execution_count": null,
   "source": [
    "destination_data = pd.read_csv(\"Holiday Destinations.csv\")\r\n",
    "destination_data[\"All inclusive hotels\"].mean()"
   ],
   "outputs": [],
   "metadata": {}
  },
  {
   "cell_type": "markdown",
   "source": [
    "4. Find the lowest scoring destination."
   ],
   "metadata": {}
  },
  {
   "cell_type": "code",
   "execution_count": null,
   "source": [
    "destination_data = pd.read_csv(\"Holiday Destinations.csv\")\r\n",
    "destination_data[destination_data.Score == destination_data.Score.min()]"
   ],
   "outputs": [],
   "metadata": {}
  },
  {
   "cell_type": "markdown",
   "source": [
    "5. Find the highest scoring destination.\r\n"
   ],
   "metadata": {}
  },
  {
   "cell_type": "code",
   "execution_count": null,
   "source": [
    "destination_data = pd.read_csv(\"Holiday Destinations.csv\")\r\n",
    "destination_data[destination_data.Score == destination_data.Score.max()]\r\n",
    "# destination_data[(destination_data[\"Score\"] == destination_data[\"Score\"].max())]"
   ],
   "outputs": [],
   "metadata": {}
  },
  {
   "cell_type": "markdown",
   "source": [
    "6. Find all the destinations where there are more than 9 all-inclusive hotels."
   ],
   "metadata": {}
  },
  {
   "cell_type": "code",
   "execution_count": null,
   "source": [
    "destination_data = pd.read_csv(\"Holiday Destinations.csv\")\r\n",
    "destination_data[(destination_data[\"All inclusive hotels\"] > 9)]"
   ],
   "outputs": [],
   "metadata": {}
  },
  {
   "cell_type": "markdown",
   "source": [
    "7. Filter the data by score above 8."
   ],
   "metadata": {}
  },
  {
   "cell_type": "code",
   "execution_count": null,
   "source": [
    "destination_data = pd.read_csv(\"Holiday Destinations.csv\")\r\n",
    "destination_data[destination_data[\"Score\"]>8]\r\n"
   ],
   "outputs": [],
   "metadata": {}
  },
  {
   "cell_type": "markdown",
   "source": [
    "8. Filter the data score below 2 ( I need to know if these destinations should be removed or there is a problem)"
   ],
   "metadata": {}
  },
  {
   "cell_type": "code",
   "execution_count": null,
   "source": [
    "destination_data = pd.read_csv(\"Holiday Destinations.csv\")\r\n",
    "destination_data[destination_data[\"Score\"]<2]"
   ],
   "outputs": [],
   "metadata": {}
  },
  {
   "cell_type": "markdown",
   "source": [
    "Extension\r\n",
    "1. Is there a correlation between number of all-inclusive hotels and score?"
   ],
   "metadata": {}
  },
  {
   "cell_type": "code",
   "execution_count": null,
   "source": [
    "destination_data = pd.read_csv(\"Holiday Destinations.csv\")\r\n",
    "destination_data[\"Score\"].corr(destination_data[\"All inclusive hotels\"])\r\n",
    "# destination_data.corr(method ='pearson') Fins correlation coefficient among numerical columns"
   ],
   "outputs": [],
   "metadata": {}
  },
  {
   "cell_type": "markdown",
   "source": [
    "Correlation between all-inclusive hotels and score is -0.09 meaning there is no relationship, i.e. the number of all-inclusive hotels do not influence the score of the destination."
   ],
   "metadata": {}
  },
  {
   "cell_type": "markdown",
   "source": [
    "Extension\r\n",
    "2. Create a data visualisation diagram to show destination and highest scores?"
   ],
   "metadata": {}
  },
  {
   "cell_type": "code",
   "execution_count": 13,
   "source": [
    "# import matplotlib library\r\n",
    "import matplotlib.pyplot as plt"
   ],
   "outputs": [],
   "metadata": {}
  },
  {
   "cell_type": "code",
   "execution_count": null,
   "source": [
    "destination_data = pd.read_csv(\"Holiday Destinations.csv\")\r\n",
    "\r\n",
    "plt.title(\"Bar Chart of average score against destination\")\r\n",
    "\r\n",
    "# Setting the X and Y labels\r\n",
    "plt.xlabel('Country')\r\n",
    "plt.ylabel('Average feedback score')\r\n",
    "\r\n",
    "plt.bar(destination_data['Destination'], destination_data['Score'])\r\n",
    "\r\n",
    "# Rotating labels on x-axis\r\n",
    "plt.xticks(rotation=35, ha='right')"
   ],
   "outputs": [],
   "metadata": {}
  },
  {
   "cell_type": "code",
   "execution_count": null,
   "source": [
    "destination_data = pd.read_csv(\"Holiday Destinations.csv\")\r\n",
    "\r\n",
    "plt.title(\"Horizontal Bar Chart of average score against destination\")\r\n",
    "\r\n",
    "# Setting the X and Y labels\r\n",
    "plt.xlabel('Average feedback score')\r\n",
    "plt.ylabel('Country')\r\n",
    "\r\n",
    "plt.barh(destination_data['Destination'], destination_data['Score'])"
   ],
   "outputs": [],
   "metadata": {}
  },
  {
   "cell_type": "markdown",
   "source": [
    "Personal practice with example of student mock results from GCSE paper"
   ],
   "metadata": {}
  },
  {
   "cell_type": "code",
   "execution_count": null,
   "source": [
    "# Average score per question to \r\n",
    "\r\n",
    "student_gcse_results = pd.read_csv(\"QLA.csv\", index_col = \"Question\")\r\n",
    "\r\n",
    "average_score_on_question = student_gcse_results.mean(axis = 1)\r\n",
    "\r\n",
    "print(average_score_on_question)\r\n",
    "\r\n"
   ],
   "outputs": [],
   "metadata": {}
  },
  {
   "cell_type": "code",
   "execution_count": 11,
   "source": [
    "# Average score on test paper\r\n",
    "\r\n",
    "student_gcse_results = pd.read_csv(\"QLA.csv\", index_col = \"Question\")\r\n",
    "student_totals = student_gcse_results.sum()\r\n",
    "Average_student_score = student_totals.mean()\r\n",
    "\r\n",
    "print(Average_student_score)"
   ],
   "outputs": [
    {
     "output_type": "stream",
     "name": "stdout",
     "text": [
      "51.36666666666667\n"
     ]
    }
   ],
   "metadata": {}
  },
  {
   "cell_type": "code",
   "execution_count": 14,
   "source": [
    "# Histogram of GCSE results of class to see distribution of results and if the paper was fair, difficult or too easy\r\n",
    "\r\n",
    "plt.hist(student_totals)"
   ],
   "outputs": [
    {
     "output_type": "execute_result",
     "data": {
      "text/plain": [
       "(array([3., 4., 4., 5., 9., 0., 4., 0., 0., 1.]),\n",
       " array([ 17. ,  26.3,  35.6,  44.9,  54.2,  63.5,  72.8,  82.1,  91.4,\n",
       "        100.7, 110. ]),\n",
       " <BarContainer object of 10 artists>)"
      ]
     },
     "metadata": {},
     "execution_count": 14
    },
    {
     "output_type": "display_data",
     "data": {
      "text/plain": [
       "<Figure size 432x288 with 1 Axes>"
      ],
      "image/png": "[encoded data removed]"
     },
     "metadata": {
      "needs_background": "light"
     }
    }
   ],
   "metadata": {}
  }
 ],
 "metadata": {
  "orig_nbformat": 4,
  "language_info": {
   "name": "python",
   "version": "3.9.6",
   "mimetype": "text/x-python",
   "codemirror_mode": {
    "name": "ipython",
    "version": 3
   },
   "pygments_lexer": "ipython3",
   "nbconvert_exporter": "python",
   "file_extension": ".py"
  },
  "kernelspec": {
   "name": "python3",
   "display_name": "Python 3.9.6 64-bit"
  },
  "interpreter": {
   "hash": "cbf31cb301086a094b5a5e4bac95ffba745ab54b234cc3e8522f2e4e41ee96bf"
  }
 },
 "nbformat": 4,
 "nbformat_minor": 2
}