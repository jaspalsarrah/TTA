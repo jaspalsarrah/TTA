{
 "metadata": {
  "language_info": {
   "codemirror_mode": {
    "name": "ipython",
    "version": 3
   },
   "file_extension": ".py",
   "mimetype": "text/x-python",
   "name": "python",
   "nbconvert_exporter": "python",
   "pygments_lexer": "ipython3",
   "version": "3.9.6"
  },
  "orig_nbformat": 4,
  "kernelspec": {
   "name": "python3",
   "display_name": "Python 3.9.6 64-bit"
  },
  "interpreter": {
   "hash": "cbf31cb301086a094b5a5e4bac95ffba745ab54b234cc3e8522f2e4e41ee96bf"
  }
 },
 "nbformat": 4,
 "nbformat_minor": 2,
 "cells": [
  {
   "cell_type": "code",
   "execution_count": null,
   "source": [
    "# Home learning task 1\r\n",
    "# Write a program that allows you to enter 4 numbers and stores them in a file called “Numbers”\r\n",
    "\r\n",
    "num_1 = input(\"Enter 1st number: \")\r\n",
    "num_2 = input(\"Enter 2nd number: \")\r\n",
    "num_3 = input(\"Enter 3rd number: \")\r\n",
    "num_4 = input(\"Enter 4th number: \")\r\n",
    "\r\n",
    "numbers_file = open(\"Numbers.txt\", \"w\")\r\n",
    "\r\n",
    "numbers_file.write(num_1)\r\n",
    "numbers_file.write(\"\\n\" + num_2)\r\n",
    "numbers_file.write(\"\\n\" + num_3)\r\n",
    "numbers_file.write(\"\\n\" + num_4)\r\n",
    "\r\n",
    "# numbers_file.write(num_1 +\" \" + num_2 + \" \" + num_3 + \" \" + num_4) Alternative way to output to numbers to file\r\n",
    "\r\n",
    "numbers_file.close()\r\n"
   ],
   "outputs": [],
   "metadata": {}
  },
  {
   "cell_type": "code",
   "execution_count": null,
   "source": [
    "# Home learning task 2\r\n",
    "# Write a program to ask a student for their percentage mark and  convert this to a grade.\r\n",
    "\r\n",
    "def mark_grade(percentage_mark):\r\n",
    "    if percentage_mark >= 80:\r\n",
    "        exam_grade = str(\"A*\")\r\n",
    "    elif percentage_mark >= 70:\r\n",
    "        exam_grade = str(\"A\")\r\n",
    "    elif percentage_mark >= 60:\r\n",
    "        exam_grade = str(\"B\")\r\n",
    "    elif percentage_mark >= 50:\r\n",
    "        exam_grade = str(\"C\")\r\n",
    "    elif percentage_mark >= 40:\r\n",
    "        exam_grade = str(\"D\")\r\n",
    "    else:\r\n",
    "        exam_grade = str(\"U\")\r\n",
    "    return exam_grade\r\n",
    "   \r\n",
    "\r\n",
    "percentage_mark = float(input(\"What was your percentage mark? \"))\r\n",
    "\r\n",
    "mark_grade(percentage_mark)\r\n"
   ],
   "outputs": [],
   "metadata": {}
  },
  {
   "cell_type": "code",
   "execution_count": null,
   "source": [
    "# Home learning task 2 extension\r\n",
    "# Ask the user for their target grade and print this with their mark\r\n",
    "\r\n",
    "def mark_grade(percentage_mark, target_grade):\r\n",
    "    if percentage_mark >= 80:\r\n",
    "        exam_grade = str(\"A*\")\r\n",
    "    elif percentage_mark >= 70:\r\n",
    "        exam_grade = str(\"A\")\r\n",
    "    elif percentage_mark >= 60:\r\n",
    "        exam_grade = str(\"B\")\r\n",
    "    elif percentage_mark >= 50:\r\n",
    "        exam_grade = str(\"C\")\r\n",
    "    elif percentage_mark >= 40:\r\n",
    "        exam_grade = str(\"D\")\r\n",
    "    else:\r\n",
    "        exam_grade = str(\"U\")\r\n",
    "    \r\n",
    "    if target_grade < exam_grade:\r\n",
    "        print(\"You achieved a grade of \" + exam_grade + \" on your exam and are working below your target grade\")\r\n",
    "    elif target_grade > exam_grade:\r\n",
    "        print(\"You achieved a grade of \" + exam_grade + \" on your exam and are working above your target grade\")\r\n",
    "    elif target_grade == exam_grade:\r\n",
    "        print(\"You achieved a grade of \" + exam_grade + \" on your exam and are working at your target grade\")\r\n",
    "   \r\n",
    "\r\n",
    "percentage_mark = float(input(\"What was your percentage mark? \"))\r\n",
    "target_grade = str(input(\"What is your target grade? \"))\r\n",
    "\r\n",
    "mark_grade(percentage_mark, target_grade)"
   ],
   "outputs": [],
   "metadata": {}
  },
  {
   "cell_type": "code",
   "execution_count": null,
   "source": [
    "# Home learning task NumPy\r\n",
    "# 1 Create a 1D array of numbers from 0 to 9\r\n",
    "\r\n",
    "import numpy as np\r\n",
    "\r\n",
    "array1 = np.array([0, 1, 2, 3, 4, 5, 6, 7, 8, 9])\r\n",
    "print(array1)\r\n"
   ],
   "outputs": [],
   "metadata": {}
  },
  {
   "cell_type": "code",
   "execution_count": null,
   "source": [
    "# Home learning task NumPy\r\n",
    "# 2 Create a 3×3 NumPy array of all Boolean value Trues\r\n",
    "\r\n",
    "import numpy as np\r\n",
    "\r\n",
    "array2 = np.ones(9)\r\n",
    "array_3x3 = array2.reshape(3,3)\r\n",
    "boolean_array = array_3x3 == 1\r\n",
    "print(boolean_array)\r\n"
   ],
   "outputs": [],
   "metadata": {}
  },
  {
   "cell_type": "code",
   "execution_count": null,
   "source": [
    "# Home learning task NumPy\r\n",
    "# 3 Extract all odd numbers from array of 1-10\r\n",
    "\r\n",
    "import numpy as np\r\n",
    "\r\n",
    "array3 = np.arange(1, 11, 1)\r\n",
    "extract_odd_array = array3[array3 % 2 > 0]\r\n",
    "print(extract_odd_array)\r\n"
   ],
   "outputs": [],
   "metadata": {}
  },
  {
   "cell_type": "code",
   "execution_count": null,
   "source": [
    "# Home learning task NumPy\r\n",
    "# 4 Replace all odd numbers in an array of 1-10 with the value -1\r\n",
    "\r\n",
    "import numpy as np\r\n",
    "\r\n",
    "array4 = np.arange(1, 11, 1)\r\n",
    "array4[array4 % 2 > 0] = -1\r\n",
    "\r\n",
    "print(array4)"
   ],
   "outputs": [],
   "metadata": {}
  },
  {
   "cell_type": "code",
   "execution_count": null,
   "source": [
    "# Home learning task NumPy\r\n",
    "# 5 Convert a 1D array to a 2D array with 2 rows\r\n",
    "\r\n",
    "import numpy as np\r\n",
    "\r\n",
    "array5 = np.arange(1, 21, 2)\r\n",
    "converted_array = array5.reshape(2,5)\r\n",
    "print(converted_array)"
   ],
   "outputs": [],
   "metadata": {}
  },
  {
   "cell_type": "code",
   "execution_count": null,
   "source": [
    "# Home learning task NumPy\r\n",
    "#6 Create two arrays a and b, stack these two arrays vertically use the np.dot and np.sum to calculate totals\r\n",
    "import numpy as np\r\n",
    "a = np.arange(1,7).reshape(2,3)\r\n",
    "b = np.arange(8,14).reshape(3,2)\r\n",
    "c = np.dot(a,b)\r\n",
    "print(\"The dot product of a and b is: \",\"\\n\",c)\r\n",
    "sum_of_dot_product = np.sum(c)\r\n",
    "print(\"The sum of the dot product is: \",sum_of_dot_product)\r\n",
    "\r\n",
    "print(\"The sum of each row of the dot product array is: \",np.sum(c,axis=1))\r\n",
    "\r\n",
    "print(\"The sum of each column of the dot product array is: \",np.sum(c,axis=0))\r\n"
   ],
   "outputs": [],
   "metadata": {}
  },
  {
   "cell_type": "code",
   "execution_count": 14,
   "source": [
    "# Extension task NumPy\r\n",
    "# 1 Create the following pattern without hardcoding. Use only NumPy functions\r\n",
    "\r\n",
    "import numpy as np\r\n",
    "\r\n",
    "array6 = np.array([1, 2, 3])\r\n",
    "x = np.repeat(array6, 3)\r\n",
    "y = np.tile(array6, 3)\r\n",
    "np.concatenate((x,y))\r\n"
   ],
   "outputs": [
    {
     "output_type": "execute_result",
     "data": {
      "text/plain": [
       "array([1, 1, 1, 2, 2, 2, 3, 3, 3, 1, 2, 3, 1, 2, 3, 1, 2, 3])"
      ]
     },
     "metadata": {},
     "execution_count": 14
    }
   ],
   "metadata": {}
  },
  {
   "cell_type": "code",
   "execution_count": null,
   "source": [
    "# Extension task NumPy\r\n",
    "# 2  In two arrays a (1,2,3,4,5) and b (4,5,6,7,8,9) – remove all repeating items present in array b\r\n",
    "\r\n",
    "import numpy as np\r\n",
    "\r\n",
    "a = np.array([1, 2, 3, 4, 5])\r\n",
    "b = np.array([4, 5, 6, 7, 8, 9])\r\n",
    "c = []\r\n",
    "\r\n",
    "for x in b:\r\n",
    "    if x not in a:\r\n",
    "        c.append(x)\r\n",
    "print(c)"
   ],
   "outputs": [],
   "metadata": {}
  },
  {
   "cell_type": "code",
   "execution_count": null,
   "source": [
    "# Extension task NumPy\r\n",
    "# 3  Get all items between 3 and 7 from a and b and sum them together\r\n",
    "\r\n",
    "import numpy as np\r\n",
    "\r\n",
    "a = np.array([1, 2, 3, 4, 5])\r\n",
    "b = np.array([4, 5, 6, 7, 8, 9])\r\n",
    "c = []\r\n",
    "\r\n",
    "for x in a:\r\n",
    "    if x > 3 and x < 7:\r\n",
    "        c.append(x)\r\n",
    "for y in b:\r\n",
    "    if y > 3 and y < 7:\r\n",
    "        c.append(y)\r\n",
    "print(np.sum(c))\r\n"
   ],
   "outputs": [],
   "metadata": {}
  }
 ]
}