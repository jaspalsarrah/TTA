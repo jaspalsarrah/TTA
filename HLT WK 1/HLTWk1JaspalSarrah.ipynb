{
 "metadata": {
  "language_info": {
   "codemirror_mode": {
    "name": "ipython",
    "version": 3
   },
   "file_extension": ".py",
   "mimetype": "text/x-python",
   "name": "python",
   "nbconvert_exporter": "python",
   "pygments_lexer": "ipython3",
   "version": "3.9.6"
  },
  "orig_nbformat": 4,
  "kernelspec": {
   "name": "python3",
   "display_name": "Python 3.9.6 64-bit"
  },
  "interpreter": {
   "hash": "cbf31cb301086a094b5a5e4bac95ffba745ab54b234cc3e8522f2e4e41ee96bf"
  }
 },
 "nbformat": 4,
 "nbformat_minor": 2,
 "cells": [
  {
   "cell_type": "code",
   "execution_count": null,
   "metadata": {},
   "outputs": [],
   "source": [
    "print(\"Hello World\")"
   ]
  },
  {
   "cell_type": "code",
   "execution_count": null,
   "metadata": {},
   "outputs": [],
   "source": [
    "# Home learning Task 1\n",
    "import random\n",
    "random_number = random.randint(1,10) # Generates a random integer number between 1 and 10\n",
    "name = input(\"What is your name?\") # Gathers name of user and stores as variable\n",
    "guess = int(input(\"Guess a whole number between 1 and 10\")) # User enters integer value between 1 and 10\n",
    "if guess == random_number:\n",
    "    print(\"You have guessed correctly\")\n",
    "else:\n",
    "    print(\"You have guessed incorrectly\")\n"
   ]
  },
  {
   "cell_type": "code",
   "execution_count": null,
   "metadata": {
    "tags": []
   },
   "outputs": [],
   "source": [
    "# Home learning Task 2\n",
    "while True: # Infinite loop until an integer value entered by user\n",
    "    try:\n",
    "       favourite_number = int(input(\"What is your favourite whole number between 1 and 100?\")) \n",
    "       break\n",
    "    except ValueError: \n",
    "       print(\"Invalid value. Choose a whole number between 1 and 100.\")\n",
    "       continue\n",
    "    else:\n",
    "        break\n",
    "\n",
    "while favourite_number < 1 or favourite_number > 100: # Infinite loop until a value entered in the correct range\n",
    "    print(\"Invalid value. Choose a whole number between 1 and 100.\")\n",
    "    favourite_number = int(input(\"What is your favourite whole number between 1 and 100?\"))\n",
    "    \n",
    "if favourite_number <= 33: # if number is less than or equal to 33 then prints first joke\n",
    "    print(\"I saw my maths teacher with a piece of graph paper yesterday. I think he must be plotting something.\")\n",
    "elif favourite_number <= 66: # if number is between 34-66 then prints second joke\n",
    "    print(\"What did the triangle say to the circle? “You’re pointless.”\")\n",
    "else:\n",
    "    print(\"How does a mathematician plow fields? With a pro-tractor.\") # Any number greater than 66 prints the third joke.\n"
   ]
  },
  {
   "cell_type": "code",
   "execution_count": null,
   "metadata": {},
   "outputs": [],
   "source": [
    "# Home learning Task 3\n",
    "starter = str(input(\"What is your favourite starter?\")) # User enters their favourite starter\n",
    "main    = str(input(\"What is your favourite main course?\")) # User enters their favourite main course\n",
    "dessert = str(input(\"What is your favourite dessert?\")) # User enters their favourite dessert\n",
    "drink   = str(input(\"What is your favourite drink?\")) # User enters their favourite drink\n",
    "print(\"Your favourite meal is\",starter,\"for a starter, followed by\", main,\"for your main course with a glass of\", drink,\"and\",dessert,\"for dessert.\") # Variables concatanated into a sentence and strings"
   ]
  },
  {
   "cell_type": "code",
   "execution_count": null,
   "metadata": {},
   "outputs": [],
   "source": [
    "# Home learning Task 4\n",
    "motorbike_cost = 2000\n",
    "while motorbike_cost >= 1000: # Repeat loop and output calculation whilst cost is equal to or more than £1000\n",
    "    print(motorbike_cost)\n",
    "    motorbike_cost *= 0.9\n"
   ]
  },
  {
   "cell_type": "code",
   "execution_count": null,
   "metadata": {},
   "outputs": [],
   "source": [
    "# Home learning Task 5\n",
    "while True: # Infinite loop until first number is a numerical value\n",
    "    try:\n",
    "       first_number = float(input(\"Enter your first number?\"))\n",
    "       break\n",
    "    except ValueError: \n",
    "       print(\"Invalid value. Enter your first number again.\")\n",
    "       continue\n",
    "\n",
    "while True: # Inifinite loop until a operator chosen from options\n",
    "    try:\n",
    "        operation = (input(\"Choose an operation from *, /, +, - or **(power of) you want to perform\")) \n",
    "        if operation == \"+\" or operation == \"-\" or operation == \"*\" or operation == \"/\" or operation == \"**\":\n",
    "            break\n",
    "        else:\n",
    "            print(\"Invalid operation. Choose an operation from *, /, +, - or **(power of) you want to perform\")\n",
    "    except:\n",
    "        continue\n",
    "\n",
    "while True: # Infinite loop until second number is a numerical value\n",
    "    try:\n",
    "       second_number = float(input(\"Enter your second number?\"))\n",
    "       break\n",
    "    except ValueError: \n",
    "       print(\"Invalid value. Enter your second number again.\")\n",
    "       continue  \n",
    "\n",
    "if operation == \"+\": # Calculations based on numbers and operator chosen with output of calculations\n",
    "    print(first_number + second_number)\n",
    "elif operation == \"-\":\n",
    "    print(first_number - second_number)\n",
    "elif operation == \"*\":\n",
    "    print(first_number * second_number)\n",
    "elif operation == \"/\":\n",
    "    print(first_number/second_number)\n",
    "elif operation == \"**\":\n",
    "    print(first_number ** second_number)\n",
    "\n"
   ]
  },
  {
   "cell_type": "code",
   "execution_count": null,
   "metadata": {},
   "outputs": [],
   "source": []
  }
 ]
}