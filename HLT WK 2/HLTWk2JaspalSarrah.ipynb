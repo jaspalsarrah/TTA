{
 "metadata": {
  "language_info": {
   "codemirror_mode": {
    "name": "ipython",
    "version": 3
   },
   "file_extension": ".py",
   "mimetype": "text/x-python",
   "name": "python",
   "nbconvert_exporter": "python",
   "pygments_lexer": "ipython3",
   "version": "3.9.6"
  },
  "orig_nbformat": 4,
  "kernelspec": {
   "name": "python3",
   "display_name": "Python 3.9.6 64-bit"
  },
  "interpreter": {
   "hash": "cbf31cb301086a094b5a5e4bac95ffba745ab54b234cc3e8522f2e4e41ee96bf"
  }
 },
 "nbformat": 4,
 "nbformat_minor": 2,
 "cells": [
  {
   "cell_type": "code",
   "execution_count": null,
   "metadata": {},
   "outputs": [],
   "source": [
    "# Home learning task 1\n",
    "# User needs to ensure their quadratic equation is of the form ax^2+bx+c=0\n",
    "import math\n",
    "a = int(input(\"Enter value of a: \"))\n",
    "b = int(input(\"Enter value of b: \"))\n",
    "c = int(input(\"Enter value of c: \"))\n",
    "D = (b**2) - (4*a*c)\n",
    "\n",
    "if D>0:\n",
    "    x1 = float(-b+math.sqrt(D))/(2*a)\n",
    "    x2 = float(-b-math.sqrt(D))/(2*a)\n",
    "    if x1 == x2:\n",
    "        print(\"Your solution for your quadratic equation is\", + x1) \n",
    "    else:\n",
    "        print(\"Your solutions for your quadratic equation are\", + x1, x2)\n",
    "else:\n",
    "    print(\"There are no real solutions\")\n"
   ]
  },
  {
   "cell_type": "code",
   "execution_count": null,
   "metadata": {},
   "outputs": [],
   "source": [
    "# Home learning task 2\n",
    "\n",
    "def value_of_motorbike(initial_cost_of_motorbike, depreciation_percentage): # function requires user to input parameters of initial price and percentage lost each year\n",
    "    while initial_cost_of_motorbike >= 1000:\n",
    "        print(initial_cost_of_motorbike)\n",
    "        initial_cost_of_motorbike *= (1-(depreciation_percentage)/100)\n",
    "\n",
    "value_of_motorbike(5000, 25) # Example of function being called with £5000 initial price and 25% loss each year\n"
   ]
  },
  {
   "cell_type": "code",
   "execution_count": 6,
   "metadata": {},
   "outputs": [],
   "source": [
    "# Home learning task 3\n",
    "\n",
    "def procedure_calculator (num1, op, num2): \n",
    "    if op == \"+\": \n",
    "        print(num1 + num2)\n",
    "    elif op == \"-\":\n",
    "        print(num1 - num2)\n",
    "    elif op == \"*\":\n",
    "        print(num1 * num2)\n",
    "    elif op == \"/\":\n",
    "        print(num1/num2)\n",
    "    elif op == \"**\":\n",
    "        print(num1 ** num2)\n",
    "\n",
    "num1 = float(input(\"Enter first number: \"))\n",
    "op = str(input(\"Enter choice of operation: \"))\n",
    "num2 = float(input(\"Enter second number: \"))\n",
    "\n",
    "procedure_calculator(num1, op, num2) # Calling on procedure to calculate based on user inputs\n"
   ]
  },
  {
   "cell_type": "code",
   "execution_count": null,
   "metadata": {},
   "outputs": [],
   "source": []
  }
 ]
}